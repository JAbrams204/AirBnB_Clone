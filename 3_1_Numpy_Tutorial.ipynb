{
  "nbformat": 4,
  "nbformat_minor": 0,
  "metadata": {
    "colab": {
      "provenance": [],
      "mount_file_id": "1MaNx2rIyLf-DDKHEeM-RnKwNgG8nG0YS",
      "authorship_tag": "ABX9TyMYH+v+rHs5yP1f25jjo+5M",
      "include_colab_link": true
    },
    "kernelspec": {
      "name": "python3",
      "display_name": "Python 3"
    },
    "language_info": {
      "name": "python"
    }
  },
  "cells": [
    {
      "cell_type": "markdown",
      "metadata": {
        "id": "view-in-github",
        "colab_type": "text"
      },
      "source": [
        "<a href=\"https://colab.research.google.com/github/JAbrams204/AirBnB_Clone/blob/main/3_1_Numpy_Tutorial.ipynb\" target=\"_parent\"><img src=\"https://colab.research.google.com/assets/colab-badge.svg\" alt=\"Open In Colab\"/></a>"
      ]
    },
    {
      "cell_type": "code",
      "execution_count": null,
      "metadata": {
        "colab": {
          "base_uri": "https://localhost:8080/"
        },
        "id": "L4jAm-bLEHwr",
        "outputId": "38ec11c9-72a8-422f-e0d3-54f988934e53"
      },
      "outputs": [
        {
          "output_type": "stream",
          "name": "stdout",
          "text": [
            "Welcome to Machine Learning using Python!\n"
          ]
        }
      ],
      "source": [
        "print('Welcome to Machine Learning using Python!')"
      ]
    },
    {
      "cell_type": "markdown",
      "source": [
        "NumPy - Numerical Python\n",
        "\n",
        "Advantages of NumPy Arrays\n",
        "1.   Allows several Mathematical Operations\n",
        "2.   Faster operations"
      ],
      "metadata": {
        "id": "7rXIsxja0Ig1"
      }
    },
    {
      "cell_type": "code",
      "source": [
        "import numpy as np"
      ],
      "metadata": {
        "id": "TDSAxE6hEZO8"
      },
      "execution_count": null,
      "outputs": []
    },
    {
      "cell_type": "markdown",
      "source": [
        "The analysis of the time taken for a computation between a Python List and NumPy"
      ],
      "metadata": {
        "id": "eycEhDazFVps"
      }
    },
    {
      "cell_type": "code",
      "source": [
        "from time import process_time"
      ],
      "metadata": {
        "id": "HrC4exsdEK-f"
      },
      "execution_count": null,
      "outputs": []
    },
    {
      "cell_type": "markdown",
      "source": [
        "Computation time taken by a List"
      ],
      "metadata": {
        "id": "GH4zat48GNZd"
      }
    },
    {
      "cell_type": "code",
      "source": [
        "python_list = [i for i in range(10000)]\n",
        "\n",
        "start_time = process_time()\n",
        "\n",
        "python_list = [i + 5 for i in python_list]\n",
        "\n",
        "end_time = process_time()\n",
        "\n",
        "#print(python_list)\n",
        "\n",
        "print(end_time - start_time)"
      ],
      "metadata": {
        "colab": {
          "base_uri": "https://localhost:8080/"
        },
        "id": "U8wrcVmBF1xf",
        "outputId": "2cbf1843-0479-447b-9d41-3063d46c5fa3"
      },
      "execution_count": null,
      "outputs": [
        {
          "output_type": "stream",
          "name": "stdout",
          "text": [
            "0.0015412070000007105\n"
          ]
        }
      ]
    },
    {
      "cell_type": "markdown",
      "source": [
        "Computation time taken by NumPy"
      ],
      "metadata": {
        "id": "j-hLPm_JH5fk"
      }
    },
    {
      "cell_type": "code",
      "source": [
        "np_array = np.array([i for i in range(10000)])\n",
        "\n",
        "start_time = process_time()\n",
        "\n",
        "np_array += 5\n",
        "\n",
        "end_time = process_time()\n",
        "\n",
        "print(end_time - start_time)\n",
        "\n"
      ],
      "metadata": {
        "colab": {
          "base_uri": "https://localhost:8080/"
        },
        "id": "K3SMUVLRH1Za",
        "outputId": "b162f117-5b92-417e-f049-40745a700536"
      },
      "execution_count": null,
      "outputs": [
        {
          "output_type": "stream",
          "name": "stdout",
          "text": [
            "0.00014993299999943588\n"
          ]
        }
      ]
    },
    {
      "cell_type": "markdown",
      "source": [
        "NumPy Arrays"
      ],
      "metadata": {
        "id": "QGSD2Yktdynt"
      }
    },
    {
      "cell_type": "code",
      "source": [
        "#List\n",
        "list01 = [1, 2, 3, 4, 5]\n",
        "print(list01)\n",
        "type(list01)"
      ],
      "metadata": {
        "colab": {
          "base_uri": "https://localhost:8080/"
        },
        "id": "Bik3mSfKK_xw",
        "outputId": "3eea1753-e9cb-4fd9-b2ba-56013d32c3d6"
      },
      "execution_count": null,
      "outputs": [
        {
          "output_type": "stream",
          "name": "stdout",
          "text": [
            "[1, 2, 3, 4, 5]\n"
          ]
        },
        {
          "output_type": "execute_result",
          "data": {
            "text/plain": [
              "list"
            ]
          },
          "metadata": {},
          "execution_count": 28
        }
      ]
    },
    {
      "cell_type": "code",
      "source": [
        "np_array = np.array([1, 2, 3, 4, 5])\n",
        "print(np_array)\n",
        "type(np_array)"
      ],
      "metadata": {
        "colab": {
          "base_uri": "https://localhost:8080/"
        },
        "id": "SiklZ0ULeHtP",
        "outputId": "731524cf-acb9-4f8d-8166-3cf450b16d60"
      },
      "execution_count": null,
      "outputs": [
        {
          "output_type": "stream",
          "name": "stdout",
          "text": [
            "[1 2 3 4 5]\n"
          ]
        },
        {
          "output_type": "execute_result",
          "data": {
            "text/plain": [
              "numpy.ndarray"
            ]
          },
          "metadata": {},
          "execution_count": 30
        }
      ]
    },
    {
      "cell_type": "code",
      "source": [
        "# Create a One Dimensional Array\n",
        "\n",
        "one_array = np.array([10, 20, 30, 40, 50])\n",
        "print(one_array)\n",
        "print()\n",
        "one_array.shape"
      ],
      "metadata": {
        "colab": {
          "base_uri": "https://localhost:8080/"
        },
        "id": "y2ksUa2heVoL",
        "outputId": "174fa94e-a0a5-4028-8335-2dbdef3897db"
      },
      "execution_count": null,
      "outputs": [
        {
          "output_type": "stream",
          "name": "stdout",
          "text": [
            "[10 20 30 40 50]\n",
            "\n"
          ]
        },
        {
          "output_type": "execute_result",
          "data": {
            "text/plain": [
              "(5,)"
            ]
          },
          "metadata": {},
          "execution_count": 35
        }
      ]
    },
    {
      "cell_type": "code",
      "source": [
        "# Create a Two Dimensional Array\n",
        "\n",
        "two_array = np.array([(3, 5, 7, 9), (2, 4, 6, 8)])\n",
        "print(two_array)\n",
        "print()\n",
        "two_array.shape"
      ],
      "metadata": {
        "colab": {
          "base_uri": "https://localhost:8080/"
        },
        "id": "wKbOes3VfX2P",
        "outputId": "17e461a2-ee79-49a1-f4f6-ab7ac3d30ee2"
      },
      "execution_count": null,
      "outputs": [
        {
          "output_type": "stream",
          "name": "stdout",
          "text": [
            "[[3 5 7 9]\n",
            " [2 4 6 8]]\n",
            "\n"
          ]
        },
        {
          "output_type": "execute_result",
          "data": {
            "text/plain": [
              "(2, 4)"
            ]
          },
          "metadata": {},
          "execution_count": 34
        }
      ]
    },
    {
      "cell_type": "code",
      "source": [
        "fl_array = np.array([(1, 2, 3), (4, 5, 6)], dtype=float)\n",
        "print(fl_array)"
      ],
      "metadata": {
        "colab": {
          "base_uri": "https://localhost:8080/"
        },
        "id": "BOo8-3QugQpf",
        "outputId": "32b1c3d0-5caf-42e4-d5dd-e396f2ff8a61"
      },
      "execution_count": null,
      "outputs": [
        {
          "output_type": "stream",
          "name": "stdout",
          "text": [
            "[[1. 2. 3.]\n",
            " [4. 5. 6.]]\n"
          ]
        }
      ]
    },
    {
      "cell_type": "markdown",
      "source": [
        "Initial Placeholders in NumPy Arrays"
      ],
      "metadata": {
        "id": "FtVqz-q_h-8J"
      }
    },
    {
      "cell_type": "code",
      "source": [
        "# Create NumPy Array of Zeros\n",
        "\n",
        "ze_array = np.zeros((3,4))\n",
        "print(ze_array)"
      ],
      "metadata": {
        "colab": {
          "base_uri": "https://localhost:8080/"
        },
        "id": "QfUa6V2Lhmlc",
        "outputId": "baf73b8b-92c4-4bf8-ca11-1b6082da1682"
      },
      "execution_count": null,
      "outputs": [
        {
          "output_type": "stream",
          "name": "stdout",
          "text": [
            "[[0. 0. 0. 0.]\n",
            " [0. 0. 0. 0.]\n",
            " [0. 0. 0. 0.]]\n"
          ]
        }
      ]
    },
    {
      "cell_type": "code",
      "source": [
        "# Create NumPy Array of Ones\n",
        "on_array = np.ones((3,3))\n",
        "print(on_array)"
      ],
      "metadata": {
        "colab": {
          "base_uri": "https://localhost:8080/"
        },
        "id": "3frIVgmhlgQg",
        "outputId": "77ce13b2-d5ee-4bda-a2ca-70c2833a6a8d"
      },
      "execution_count": null,
      "outputs": [
        {
          "output_type": "stream",
          "name": "stdout",
          "text": [
            "[[1. 1. 1.]\n",
            " [1. 1. 1.]\n",
            " [1. 1. 1.]]\n"
          ]
        }
      ]
    },
    {
      "cell_type": "code",
      "source": [
        "# Create a NumPy Array of particular Value\n",
        "\n",
        "fu_array = np.full((4,4),5)\n",
        "print(fu_array)"
      ],
      "metadata": {
        "colab": {
          "base_uri": "https://localhost:8080/"
        },
        "id": "Jqabh-rblr4s",
        "outputId": "e8720744-f4e4-4210-ca3c-9ade42557c5e"
      },
      "execution_count": null,
      "outputs": [
        {
          "output_type": "stream",
          "name": "stdout",
          "text": [
            "[[5 5 5 5]\n",
            " [5 5 5 5]\n",
            " [5 5 5 5]\n",
            " [5 5 5 5]]\n"
          ]
        }
      ]
    },
    {
      "cell_type": "code",
      "source": [
        "# Create an Identity Matrix\n",
        "\n",
        "id_array = np.eye(5)\n",
        "print(id_array)"
      ],
      "metadata": {
        "colab": {
          "base_uri": "https://localhost:8080/"
        },
        "id": "2d3Yei-jmLqU",
        "outputId": "542a5d4d-2549-4693-d8dd-a8d3fd608ec6"
      },
      "execution_count": null,
      "outputs": [
        {
          "output_type": "stream",
          "name": "stdout",
          "text": [
            "[[1. 0. 0. 0. 0.]\n",
            " [0. 1. 0. 0. 0.]\n",
            " [0. 0. 1. 0. 0.]\n",
            " [0. 0. 0. 1. 0.]\n",
            " [0. 0. 0. 0. 1.]]\n"
          ]
        }
      ]
    },
    {
      "cell_type": "code",
      "source": [
        "# Create a NumPy Array of Random Value\n",
        "\n",
        "rn_array = np.random.random((3,3))\n",
        "print(rn_array)"
      ],
      "metadata": {
        "colab": {
          "base_uri": "https://localhost:8080/"
        },
        "id": "NY63H98umwA0",
        "outputId": "99d46ed5-a308-4ca4-8831-095e7557ae92"
      },
      "execution_count": null,
      "outputs": [
        {
          "output_type": "stream",
          "name": "stdout",
          "text": [
            "[[0.27275546 0.96142353 0.83468385]\n",
            " [0.71600291 0.83159532 0.14633281]\n",
            " [0.81402038 0.69383044 0.6134296 ]]\n"
          ]
        }
      ]
    },
    {
      "cell_type": "code",
      "source": [
        "# Create a NumPy Array of Random Integer Value within a specified range\n",
        "\n",
        "rnr_array = np.random.randint(10, 50, (3,3))\n",
        "print(rnr_array)"
      ],
      "metadata": {
        "colab": {
          "base_uri": "https://localhost:8080/"
        },
        "id": "kAppIJ0wnE0D",
        "outputId": "6945b747-3bc6-4ca0-d386-6e1f6b70639c"
      },
      "execution_count": null,
      "outputs": [
        {
          "output_type": "stream",
          "name": "stdout",
          "text": [
            "[[16 27 29]\n",
            " [22 33 41]\n",
            " [25 33 22]]\n"
          ]
        }
      ]
    },
    {
      "cell_type": "code",
      "source": [
        "# Create an Array of evenly spaced Values --> specifying the number of values required\n",
        "\n",
        "l_array = np.linspace(10, 30, 6)\n",
        "print(l_array)\n",
        "\n"
      ],
      "metadata": {
        "colab": {
          "base_uri": "https://localhost:8080/"
        },
        "id": "XvLjBps8oRrT",
        "outputId": "6c452743-6913-41c8-c2ca-645c30ac64c4"
      },
      "execution_count": null,
      "outputs": [
        {
          "output_type": "stream",
          "name": "stdout",
          "text": [
            "[10. 14. 18. 22. 26. 30.]\n"
          ]
        }
      ]
    },
    {
      "cell_type": "code",
      "source": [
        "# Create an Array of evenly spaced Values --> specifying the step!\n",
        "\n",
        "s_array = np.arange(10,30,6)\n",
        "print(s_array)"
      ],
      "metadata": {
        "colab": {
          "base_uri": "https://localhost:8080/"
        },
        "id": "SDWNOuUutCxA",
        "outputId": "15488a53-c6c7-414f-9207-0d218d64df9a"
      },
      "execution_count": null,
      "outputs": [
        {
          "output_type": "stream",
          "name": "stdout",
          "text": [
            "[10 16 22 28]\n"
          ]
        }
      ]
    },
    {
      "cell_type": "code",
      "source": [
        "# Convert a List to an Array\n",
        "\n",
        "list02 = [10, 20, 30, 40, 50]\n",
        "\n",
        "conv_array = np.asarray(list02)\n",
        "print(conv_array)\n",
        "print()\n",
        "type(conv_array)"
      ],
      "metadata": {
        "colab": {
          "base_uri": "https://localhost:8080/"
        },
        "id": "CGQk2MAVx9Np",
        "outputId": "9e171e79-0184-4506-ed67-7cda03dd7756"
      },
      "execution_count": null,
      "outputs": [
        {
          "output_type": "stream",
          "name": "stdout",
          "text": [
            "[10 20 30 40 50]\n",
            "\n"
          ]
        },
        {
          "output_type": "execute_result",
          "data": {
            "text/plain": [
              "numpy.ndarray"
            ]
          },
          "metadata": {},
          "execution_count": 61
        }
      ]
    },
    {
      "cell_type": "markdown",
      "source": [
        "Analysing NumPy Arrays"
      ],
      "metadata": {
        "id": "8YVQhmBtNjHH"
      }
    },
    {
      "cell_type": "code",
      "source": [
        "my_array = np.random.randint(10,50, (4,4))\n",
        "print(my_array)"
      ],
      "metadata": {
        "colab": {
          "base_uri": "https://localhost:8080/"
        },
        "id": "bqiZcFlszJK1",
        "outputId": "bf3566ea-d88c-44bb-e211-9fbded007ffd"
      },
      "execution_count": null,
      "outputs": [
        {
          "output_type": "stream",
          "name": "stdout",
          "text": [
            "[[18 35 21 24]\n",
            " [49 49 16 23]\n",
            " [23 46 12 26]\n",
            " [18 25 21 35]]\n"
          ]
        }
      ]
    },
    {
      "cell_type": "code",
      "source": [
        "# Array Dimension\n",
        "\n",
        "print(my_array.ndim)"
      ],
      "metadata": {
        "colab": {
          "base_uri": "https://localhost:8080/"
        },
        "id": "jRyS3lnmOEV9",
        "outputId": "56b77e99-9ff9-4379-8fe5-5763eea6ba22"
      },
      "execution_count": null,
      "outputs": [
        {
          "output_type": "stream",
          "name": "stdout",
          "text": [
            "2\n"
          ]
        }
      ]
    },
    {
      "cell_type": "code",
      "source": [
        "# Number of Element in an Array\n",
        "\n",
        "print(my_array.size)"
      ],
      "metadata": {
        "colab": {
          "base_uri": "https://localhost:8080/"
        },
        "id": "hHkVP6GjOVYb",
        "outputId": "ff3192eb-99f9-4315-8553-5d8bc9583b53"
      },
      "execution_count": null,
      "outputs": [
        {
          "output_type": "stream",
          "name": "stdout",
          "text": [
            "16\n"
          ]
        }
      ]
    },
    {
      "cell_type": "code",
      "source": [
        "# Checking the Datatype of the Values in the Array\n",
        "\n",
        "print(my_array.dtype)"
      ],
      "metadata": {
        "colab": {
          "base_uri": "https://localhost:8080/"
        },
        "id": "aoPCYT3aPk3h",
        "outputId": "02611460-afde-4a70-8712-d4bc398e035e"
      },
      "execution_count": null,
      "outputs": [
        {
          "output_type": "stream",
          "name": "stdout",
          "text": [
            "int64\n"
          ]
        }
      ]
    },
    {
      "cell_type": "code",
      "source": [
        "# Mathematical Operation on a NumPy Array"
      ],
      "metadata": {
        "id": "2XBPbR4sP4ik"
      },
      "execution_count": null,
      "outputs": []
    },
    {
      "cell_type": "code",
      "source": [
        "list_a = [1,2,3,4,5]\n",
        "list_b = [6, 7, 8, 9, 10]\n",
        "\n",
        "print(list_a + list_b)      # the addition of these lists results in a concatenation instead of addition!"
      ],
      "metadata": {
        "colab": {
          "base_uri": "https://localhost:8080/"
        },
        "id": "wb2dPz4hQJHe",
        "outputId": "3f6ed8a9-fd9c-4654-8eb9-ff79b8d714ee"
      },
      "execution_count": null,
      "outputs": [
        {
          "output_type": "stream",
          "name": "stdout",
          "text": [
            "[1, 2, 3, 4, 5, 6, 7, 8, 9, 10]\n"
          ]
        }
      ]
    },
    {
      "cell_type": "code",
      "source": [
        "array_a = np.random.randint(0,10, (3,3))\n",
        "array_b = np.random.randint(10,20, (3,3))\n",
        "\n",
        "print(array_a)\n",
        "print()\n",
        "print(array_b)\n",
        "\n"
      ],
      "metadata": {
        "colab": {
          "base_uri": "https://localhost:8080/"
        },
        "id": "jhyzUxTAQttN",
        "outputId": "9ccbe737-5e1b-473f-b739-75631fbb0e5b"
      },
      "execution_count": null,
      "outputs": [
        {
          "output_type": "stream",
          "name": "stdout",
          "text": [
            "[[1 0 4]\n",
            " [2 1 7]\n",
            " [1 8 6]]\n",
            "\n",
            "[[18 16 10]\n",
            " [10 12 12]\n",
            " [18 14 13]]\n"
          ]
        }
      ]
    },
    {
      "cell_type": "code",
      "source": [
        "print(array_a + array_b)\n",
        "print()\n",
        "print(array_a - array_b)\n",
        "print()\n",
        "print(array_a * array_b)\n",
        "print()\n",
        "print(array_a / array_b)\n"
      ],
      "metadata": {
        "colab": {
          "base_uri": "https://localhost:8080/"
        },
        "id": "7Z_dgFPqRpvX",
        "outputId": "7ce2d3ad-9b34-46c6-e8e1-3da86806b096"
      },
      "execution_count": null,
      "outputs": [
        {
          "output_type": "stream",
          "name": "stdout",
          "text": [
            "[[19 16 14]\n",
            " [12 13 19]\n",
            " [19 22 19]]\n",
            "\n",
            "[[-17 -16  -6]\n",
            " [ -8 -11  -5]\n",
            " [-17  -6  -7]]\n",
            "\n",
            "[[ 18   0  40]\n",
            " [ 20  12  84]\n",
            " [ 18 112  78]]\n",
            "\n",
            "[[0.05555556 0.         0.4       ]\n",
            " [0.2        0.08333333 0.58333333]\n",
            " [0.05555556 0.57142857 0.46153846]]\n"
          ]
        }
      ]
    },
    {
      "cell_type": "code",
      "source": [
        "# Alternatively, we could perform the same computation using functions\n",
        "\n",
        "array_c = np.random.randint(0,10, (3,3))\n",
        "array_d = np.random.randint(10,20, (3,3))\n",
        "\n",
        "print(array_c)\n",
        "print()\n",
        "print(array_d)"
      ],
      "metadata": {
        "colab": {
          "base_uri": "https://localhost:8080/"
        },
        "id": "G65czGdMSE4m",
        "outputId": "c6ec9983-bb3b-4763-afae-9f08ff1c66c9"
      },
      "execution_count": null,
      "outputs": [
        {
          "output_type": "stream",
          "name": "stdout",
          "text": [
            "[[8 9 4]\n",
            " [6 8 6]\n",
            " [6 7 9]]\n",
            "\n",
            "[[14 13 16]\n",
            " [15 10 11]\n",
            " [16 10 17]]\n"
          ]
        }
      ]
    },
    {
      "cell_type": "code",
      "source": [
        "print(np.add(array_c, array_d))\n",
        "print()\n",
        "print(np.subtract(array_c, array_d))\n",
        "print()\n",
        "print(np.multiply(array_c, array_d))\n",
        "print()\n",
        "print(np.divide(array_c, array_d))"
      ],
      "metadata": {
        "colab": {
          "base_uri": "https://localhost:8080/"
        },
        "id": "zu7E3iVvO6lP",
        "outputId": "dcfeb942-c33b-4152-a65c-2e5b41dcfdde"
      },
      "execution_count": null,
      "outputs": [
        {
          "output_type": "stream",
          "name": "stdout",
          "text": [
            "[[22 22 20]\n",
            " [21 18 17]\n",
            " [22 17 26]]\n",
            "\n",
            "[[ -6  -4 -12]\n",
            " [ -9  -2  -5]\n",
            " [-10  -3  -8]]\n",
            "\n",
            "[[112 117  64]\n",
            " [ 90  80  66]\n",
            " [ 96  70 153]]\n",
            "\n",
            "[[0.57142857 0.69230769 0.25      ]\n",
            " [0.4        0.8        0.54545455]\n",
            " [0.375      0.7        0.52941176]]\n"
          ]
        }
      ]
    },
    {
      "cell_type": "markdown",
      "source": [
        "Array Manipulations"
      ],
      "metadata": {
        "id": "TaIEO7eeQHK7"
      }
    },
    {
      "cell_type": "code",
      "source": [
        "new_array = np.random.randint(0, 10, (2, 3))\n",
        "print(new_array)\n",
        "print()\n",
        "print(new_array.shape)"
      ],
      "metadata": {
        "colab": {
          "base_uri": "https://localhost:8080/"
        },
        "id": "dJrVxUMXP1I2",
        "outputId": "5aa2a177-9e57-4e5a-bad6-2925fe5c2f03"
      },
      "execution_count": null,
      "outputs": [
        {
          "output_type": "stream",
          "name": "stdout",
          "text": [
            "[[7 3 9]\n",
            " [4 7 8]]\n",
            "\n",
            "(2, 3)\n"
          ]
        }
      ]
    },
    {
      "cell_type": "code",
      "source": [
        "# Transpose of an Array\n",
        "\n",
        "trans = np.transpose(new_array)\n",
        "print(trans)\n",
        "print()\n",
        "print(trans.shape)"
      ],
      "metadata": {
        "colab": {
          "base_uri": "https://localhost:8080/"
        },
        "id": "AOM1Pz5pQm0P",
        "outputId": "9945f52c-9d1c-407f-afca-4da491d61b51"
      },
      "execution_count": null,
      "outputs": [
        {
          "output_type": "stream",
          "name": "stdout",
          "text": [
            "[[7 4]\n",
            " [3 7]\n",
            " [9 8]]\n",
            "\n",
            "(3, 2)\n"
          ]
        }
      ]
    },
    {
      "cell_type": "code",
      "source": [
        "# An alternative approach to Array transpose\n",
        "\n",
        "new_array02 = np.random.randint(0, 10, (2, 3))\n",
        "print(new_array02)\n",
        "print()\n",
        "print(new_array02.shape)\n",
        "\n"
      ],
      "metadata": {
        "colab": {
          "base_uri": "https://localhost:8080/"
        },
        "id": "5HjzRZg4RKre",
        "outputId": "7dabe2f2-599b-445c-a4b3-c055c552f208"
      },
      "execution_count": null,
      "outputs": [
        {
          "output_type": "stream",
          "name": "stdout",
          "text": [
            "[[3 5 4]\n",
            " [7 5 8]]\n",
            "\n",
            "(2, 3)\n"
          ]
        }
      ]
    },
    {
      "cell_type": "code",
      "source": [
        "trans02 = new_array02.T\n",
        "print(trans02)\n",
        "print()\n",
        "print(trans02.shape)"
      ],
      "metadata": {
        "colab": {
          "base_uri": "https://localhost:8080/"
        },
        "id": "LVG04PFGSIuW",
        "outputId": "01815fb9-095a-4d4c-d1a9-141eb874e4ec"
      },
      "execution_count": null,
      "outputs": [
        {
          "output_type": "stream",
          "name": "stdout",
          "text": [
            "[[3 7]\n",
            " [5 5]\n",
            " [4 8]]\n",
            "\n",
            "(3, 2)\n"
          ]
        }
      ]
    },
    {
      "cell_type": "code",
      "source": [
        "# Reshaping an Array\n",
        "\n",
        "new_array03 = np.random.randint(0, 10, (2,3))\n",
        "print(new_array03)\n",
        "print()\n",
        "print(new_array03.shape)"
      ],
      "metadata": {
        "colab": {
          "base_uri": "https://localhost:8080/"
        },
        "id": "J7nKZzfUSSsZ",
        "outputId": "772f7f72-f1ee-4f12-838d-3d54f6424dd6"
      },
      "execution_count": null,
      "outputs": [
        {
          "output_type": "stream",
          "name": "stdout",
          "text": [
            "[[8 4 3]\n",
            " [3 3 6]]\n",
            "\n",
            "(2, 3)\n"
          ]
        }
      ]
    },
    {
      "cell_type": "code",
      "source": [
        "new_array04 = new_array03.reshape(3,2)\n",
        "print(new_array04)\n",
        "print()\n",
        "print(new_array04.shape)"
      ],
      "metadata": {
        "colab": {
          "base_uri": "https://localhost:8080/"
        },
        "id": "PEOCEOmdTUHu",
        "outputId": "c139f00e-6129-4c32-ca9d-34999d42fa7a"
      },
      "execution_count": null,
      "outputs": [
        {
          "output_type": "stream",
          "name": "stdout",
          "text": [
            "[[8 4]\n",
            " [3 3]\n",
            " [3 6]]\n",
            "\n",
            "(3, 2)\n"
          ]
        }
      ]
    },
    {
      "cell_type": "code",
      "source": [],
      "metadata": {
        "id": "xxPwD_xfTsxN"
      },
      "execution_count": null,
      "outputs": []
    }
  ]
}